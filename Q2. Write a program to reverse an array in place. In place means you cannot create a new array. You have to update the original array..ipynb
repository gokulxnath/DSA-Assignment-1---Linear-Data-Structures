{
 "cells": [
  {
   "cell_type": "markdown",
   "id": "a1d17b5d",
   "metadata": {},
   "source": [
    "## Q2. Write a program to reverse an array in place? In place means you cannot create a new array. You have to update the original array."
   ]
  },
  {
   "cell_type": "code",
   "execution_count": 1,
   "id": "9700d017",
   "metadata": {},
   "outputs": [
    {
     "name": "stdout",
     "output_type": "stream",
     "text": [
      "[10, 20, 30, 40, 50, 60, 70]\n",
      "The reversed array is\n",
      "[70, 60, 50, 40, 30, 20, 10]\n"
     ]
    }
   ],
   "source": [
    "def ReverseArray(Array, first, last):\n",
    "    while first < last:\n",
    "        Array[first],Array[last] = Array[last],Array[first]\n",
    "        \n",
    "        first += 1\n",
    "        last -= 1\n",
    "        \n",
    "        \n",
    "Array = [10, 20, 30, 40, 50, 60, 70]\n",
    "print(Array)\n",
    "ReverseArray(Array, 0, 6)\n",
    "print(\"The reversed array is\")\n",
    "print(Array)"
   ]
  }
 ],
 "metadata": {
  "kernelspec": {
   "display_name": "Python 3 (ipykernel)",
   "language": "python",
   "name": "python3"
  },
  "language_info": {
   "codemirror_mode": {
    "name": "ipython",
    "version": 3
   },
   "file_extension": ".py",
   "mimetype": "text/x-python",
   "name": "python",
   "nbconvert_exporter": "python",
   "pygments_lexer": "ipython3",
   "version": "3.9.7"
  }
 },
 "nbformat": 4,
 "nbformat_minor": 5
}
