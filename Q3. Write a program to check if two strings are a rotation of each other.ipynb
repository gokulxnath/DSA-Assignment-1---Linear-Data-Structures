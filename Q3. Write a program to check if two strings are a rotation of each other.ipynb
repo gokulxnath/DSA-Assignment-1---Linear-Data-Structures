{
 "cells": [
  {
   "cell_type": "markdown",
   "id": "57029a52",
   "metadata": {},
   "source": [
    "## Q3. Write a program to check if two strings are a rotation of each other?"
   ]
  },
  {
   "cell_type": "code",
   "execution_count": 6,
   "id": "c4ce4255",
   "metadata": {},
   "outputs": [
    {
     "name": "stdout",
     "output_type": "stream",
     "text": [
      "The Strings are rotations of each other\n"
     ]
    }
   ],
   "source": [
    "def are_rotations(string1, string2):\n",
    "    size1 = len(string1)\n",
    "    size2 = len(string2)\n",
    "    temp = ''\n",
    "    \n",
    "    if size1 != size2:\n",
    "        return 0\n",
    "    \n",
    "    temp = string1 + string1\n",
    "    \n",
    "    if (temp.count(string2)> 0):\n",
    "        return 1\n",
    "    else:\n",
    "        return 0\n",
    "\n",
    "string1 = 'ABCDEF'\n",
    "string2 = 'DEFABC'\n",
    "\n",
    "if are_rotations(string1, string2):\n",
    "    print ('The Strings are rotations of each other')\n",
    "else:\n",
    "    print ('The Strings are not rotations of each other')"
   ]
  },
  {
   "cell_type": "code",
   "execution_count": null,
   "id": "4a7d9dd5",
   "metadata": {},
   "outputs": [],
   "source": []
  }
 ],
 "metadata": {
  "kernelspec": {
   "display_name": "Python 3 (ipykernel)",
   "language": "python",
   "name": "python3"
  },
  "language_info": {
   "codemirror_mode": {
    "name": "ipython",
    "version": 3
   },
   "file_extension": ".py",
   "mimetype": "text/x-python",
   "name": "python",
   "nbconvert_exporter": "python",
   "pygments_lexer": "ipython3",
   "version": "3.9.7"
  }
 },
 "nbformat": 4,
 "nbformat_minor": 5
}
