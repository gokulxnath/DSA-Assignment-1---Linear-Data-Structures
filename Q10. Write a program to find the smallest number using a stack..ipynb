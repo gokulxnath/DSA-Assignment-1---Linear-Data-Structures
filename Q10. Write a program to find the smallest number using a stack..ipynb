{
 "cells": [
  {
   "cell_type": "markdown",
   "id": "18833138",
   "metadata": {},
   "source": [
    "## Q10. Write a program to find the smallest number using a stack."
   ]
  },
  {
   "cell_type": "code",
   "execution_count": 1,
   "id": "85847874",
   "metadata": {},
   "outputs": [
    {
     "name": "stdout",
     "output_type": "stream",
     "text": [
      "How many numbers: 10\n",
      "Enter number: 1\n",
      "Enter number: 2\n",
      "Enter number: 46\n",
      "Enter number: 23\n",
      "Enter number: 8\n",
      "Enter number: 123\n",
      "Enter number: 565\n",
      "Enter number: 43\n",
      "Enter number: 546\n",
      "Enter number: 127\n",
      "Smallest number in the list is :   1\n"
     ]
    }
   ],
   "source": [
    "First = []\n",
    "num = int(input('How many numbers: '))\n",
    "\n",
    "for n in range(num):\n",
    "    numbers = int(input('Enter number: '))\n",
    "    First.append(numbers)\n",
    "    \n",
    "print(\"Smallest number in the list is :  \", min(First))"
   ]
  }
 ],
 "metadata": {
  "kernelspec": {
   "display_name": "Python 3 (ipykernel)",
   "language": "python",
   "name": "python3"
  },
  "language_info": {
   "codemirror_mode": {
    "name": "ipython",
    "version": 3
   },
   "file_extension": ".py",
   "mimetype": "text/x-python",
   "name": "python",
   "nbconvert_exporter": "python",
   "pygments_lexer": "ipython3",
   "version": "3.9.7"
  }
 },
 "nbformat": 4,
 "nbformat_minor": 5
}
